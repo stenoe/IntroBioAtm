{
  "nbformat": 4,
  "nbformat_minor": 0,
  "metadata": {
    "colab": {
      "provenance": [],
      "authorship_tag": "ABX9TyP0qjEtT4MatTmgVScw5iLB",
      "include_colab_link": true
    },
    "kernelspec": {
      "name": "python3",
      "display_name": "Python 3"
    },
    "language_info": {
      "name": "python"
    }
  },
  "cells": [
    {
      "cell_type": "markdown",
      "metadata": {
        "id": "view-in-github",
        "colab_type": "text"
      },
      "source": [
        "<a href=\"https://colab.research.google.com/github/stenoe/IntroBioAtm/blob/main/notebooks/example_exponential_growth.ipynb\" target=\"_parent\"><img src=\"https://colab.research.google.com/assets/colab-badge.svg\" alt=\"Open In Colab\"/></a>"
      ]
    },
    {
      "cell_type": "markdown",
      "source": [
        "## Simple exponential growth model\n",
        "\n",
        "$\\frac{df(t)}{dt}=k f(t)$\n",
        "\n",
        "We have a constant growth rate $k$ and the independent variable is the change over time $t$. To make a numerical solution we also need to have an initial guess for our starting point, eg., an initial population size $f_0$.\n",
        "\n",
        "- $f_0 = 1000$\n",
        "- $t_0 = 0$, $t_n = 10$\n",
        "- $k = 0.05$ (growth rate is 5%)\n",
        "\n",
        "If we solve that we would need to integrate from $t_0$ to $t_n$ of the equation after we separate the variables. To make that easier, I rename the function $f(t)$ to $Y$.\n",
        "\n",
        "$\\frac{dY}{dt} = k Y$.\n",
        "\n",
        "Now I can change the equation like so:\n",
        "\n",
        "$\\frac{dY}{Y} = k dt$,\n",
        "\n",
        "and now $Y$ only appears on the left hand side of the equal sign and $t$ on the right hand side. Now I can integrate this over the time interval.\n",
        "\n",
        "$\\int\\frac{dY}{Y} = ln(Y) + C$ (solve left part)\n",
        "\n",
        "$\\int k dt = k \\int dt = kt + D$ (solve right part)\n",
        "\n",
        "now I can put it together and get\n",
        "\n",
        "$ln(Y) + C = kt + D$ that rearranges to\n",
        "\n",
        "$ln(Y) = kt + C$ with $C := D-C$\n",
        "\n",
        "Finally, knowing that $e^{ln(Y)} = Y$ I can use the exponential functiona on the last eqation and get:\n",
        "\n",
        "$Y = e^{kt + C}$ which can be rearranged using with $C_0 = e^C$ and the rules for calcuating with powers to:\n",
        "\n",
        "$Y = C_0 e^{kt}$\n",
        "\n"
      ],
      "metadata": {
        "id": "Z8zdd3kYH29l"
      }
    },
    {
      "cell_type": "code",
      "execution_count": 1,
      "metadata": {
        "colab": {
          "base_uri": "https://localhost:8080/"
        },
        "id": "Bs8i_MutHyIA",
        "outputId": "4c268f1e-d814-4110-925b-bd4d3a4bfa13"
      },
      "outputs": [
        {
          "output_type": "stream",
          "name": "stdout",
          "text": [
            "Final population after 10 years: 1648.72\n"
          ]
        }
      ],
      "source": [
        "# prompt: make a function fo calculate a simple exponential growth model\n",
        "\n",
        "import numpy as np\n",
        "\n",
        "def exponential_growth(initial_value, growth_rate, time):\n",
        "  \"\"\"Calculates exponential growth.\n",
        "\n",
        "  Args:\n",
        "    initial_value: The initial value of the population/quantity.\n",
        "    growth_rate: The rate of growth (c).\n",
        "    time: The time elapsed.\n",
        "\n",
        "  Returns:\n",
        "    The value at the given time.\n",
        "  \"\"\"\n",
        "  return initial_value * np.exp(growth_rate * time)\n",
        "\n",
        "# Example usage\n",
        "initial_population = 1000\n",
        "growth_rate = 0.05  # 5% growth rate\n",
        "time = 10\n",
        "\n",
        "final_population = exponential_growth(initial_population, growth_rate, time)\n",
        "print(f\"Final population after {time} years: {final_population:.2f}\")\n"
      ]
    },
    {
      "cell_type": "markdown",
      "source": [
        "Let's try to make a plot of this dynamic system"
      ],
      "metadata": {
        "id": "RvbiiUWhK-Or"
      }
    },
    {
      "cell_type": "code",
      "source": [
        "# prompt: create a plot of the exponential growth using the function above\n",
        "\n",
        "import numpy as np\n",
        "import matplotlib.pyplot as plt\n",
        "\n",
        "# ## Simple exponential growth model\n",
        "#\n",
        "# $\\frac{df(t)}{dt}=c f(t)$\n",
        "#\n",
        "# We have a constant growth rate $c$ and the independent variable is the change\n",
        "# over time $t$. To make a numerical solution we also need to have an initial\n",
        "# guess for our starting point, eg., an initial population size $f_0$.\n",
        "#\n",
        "# - $f_0 = 1000$\n",
        "# - $t_0 = 0$, $t_n = 10$\n",
        "# - $c = 0.05$ (growth rate is 5%)\n",
        "#\n",
        "\n",
        "\n",
        "def exponential_growth(initial_value, growth_rate, time):\n",
        "  \"\"\"Calculates exponential growth.\n",
        "\n",
        "  Args:\n",
        "    initial_value: The initial value of the population/quantity.\n",
        "    growth_rate: The rate of growth (c).\n",
        "    time: The time elapsed.\n",
        "\n",
        "  Returns:\n",
        "    The value at the given time.\n",
        "  \"\"\"\n",
        "  return initial_value * np.exp(growth_rate * time)\n",
        "\n",
        "\n",
        "# Example usage\n",
        "initial_population = 1000\n",
        "growth_rate = 0.05  # 5% growth rate\n",
        "time = 10\n",
        "\n",
        "final_population = exponential_growth(initial_population, growth_rate, time)\n",
        "print(f\"Final population after {time} years: {final_population:.2f}\")\n",
        "\n",
        "# Let's try to make a plot of this dynamic system\n",
        "\n",
        "# Create a range of time values\n",
        "time_values = np.linspace(0, 10, 100)\n",
        "\n",
        "# Calculate the population at each time point\n",
        "population_values = [exponential_growth(initial_population, growth_rate, t)\n",
        "                    for t in time_values]\n",
        "\n",
        "# Create the plot\n",
        "plt.plot(time_values, population_values)\n",
        "plt.xlabel(\"Time (years)\")\n",
        "plt.ylabel(\"Population\")\n",
        "plt.title(\"Exponential Growth\")\n",
        "plt.grid(True)\n",
        "plt.show()\n"
      ],
      "metadata": {
        "colab": {
          "base_uri": "https://localhost:8080/",
          "height": 490
        },
        "id": "ja_30A-kLIzs",
        "outputId": "46e64cc2-56e2-4d1e-d832-53b3d67d0d87"
      },
      "execution_count": 3,
      "outputs": [
        {
          "output_type": "stream",
          "name": "stdout",
          "text": [
            "Final population after 10 years: 1648.72\n"
          ]
        },
        {
          "output_type": "display_data",
          "data": {
            "text/plain": [
              "<Figure size 640x480 with 1 Axes>"
            ],
            "image/png": "[encoded data removed]"
          },
          "metadata": {}
        }
      ]
    },
    {
      "cell_type": "code",
      "source": [],
      "metadata": {
        "id": "cQQEOW5gXbXN"
      },
      "execution_count": null,
      "outputs": []
    }
  ]
}